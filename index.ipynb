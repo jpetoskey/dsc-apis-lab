{
 "cells": [
  {
   "cell_type": "markdown",
   "metadata": {},
   "source": [
    "# APIs - Cumulative Lab\n",
    "\n",
    "\n",
    "## Introduction \n",
    "\n",
    "We've seen how the Yelp API works and how to create basic visualizations using Folium. It's time to put those skills to work in order to create a working map! Taking things a step further, you'll also independently explore how to perform pagination in order to retrieve a full results set from the Yelp API.\n",
    "\n",
    "## Objectives\n",
    "\n",
    "You will be able to: \n",
    "\n",
    "* Practice using functions to organize your code\n",
    "* Use pagination to retrieve all results from an API query\n",
    "* Practice parsing data returned from an API query\n",
    "* Practice interpreting visualizations of a dataset\n",
    "* Create maps using Folium"
   ]
  },
  {
   "cell_type": "markdown",
   "metadata": {},
   "source": [
    "## Your Task: Query Yelp for All Businesses in a Category and Analyze the Results\n",
    "\n",
    "![restaurant counter with pizza](images/restaurant_counter.jpg)\n",
    "\n",
    "Photo by <a href=\"https://unsplash.com/@jordanmadrid?utm_source=unsplash&utm_medium=referral&utm_content=creditCopyText\">Jordan Madrid</a> on <a href=\"/s/photos/pizza-restaurant?utm_source=unsplash&utm_medium=referral&utm_content=creditCopyText\">Unsplash</a>"
   ]
  },
  {
   "cell_type": "markdown",
   "metadata": {},
   "source": [
    "### Overview\n",
    "\n",
    "You've now worked with some API calls, but we have yet to see how to retrieve a more complete dataset in a programmatic manner. In this lab, you will write a query of businesses on Yelp, then use *pagination* to retrieve all possible results for that query. Then you will create a summary of your findings, including a Folium map of the geographic locations of those businesses.\n",
    "\n",
    "### Technical Details\n",
    "\n",
    "Returning to the Yelp API, the [documentation](https://www.yelp.com/developers/documentation/v3/business_search) also provides us details regarding the **API limits**. These often include details about the number of requests a user is allowed to make within a specified time limit and the maximum number of results to be returned. In this case, we are told that any request has a **maximum of 50 results per request** and defaults to 20. Furthermore, any search will be limited to a **total of 1000 results**. To retrieve all 1000 of these results, we would have to page through the results piece by piece, retrieving 50 at a time. Processes such as these are often referred to as pagination.\n",
    "\n",
    "Also, be mindful of the **API** ***rate*** **limits**. You can only make **5000 requests per day** and are also can make requests too fast. Start prototyping small before running a loop that could be faulty. You can also use `time.sleep(n)` to add delays. For more details see https://www.yelp.com/developers/documentation/v3/rate_limiting.\n",
    "\n",
    "In this lab, you will define a search and then paginate over the results to retrieve all of the results. You'll then parse these responses as a list of dictionaries (for further exploration) and create a map using Folium to visualize the results geographically.\n",
    "\n",
    "### Requirements\n",
    "\n",
    "#### 1. Make the Initial Request\n",
    "\n",
    "Start by filling in your API key to make the initial request to the business search API. Investigate the structure of the response you get back and start figuring out how you will extract the relevant information.\n",
    "\n",
    "#### 2. Add Pagination\n",
    "\n",
    "Using loops and functions, collect the maximum number of results for your query from the API.\n",
    "\n",
    "#### 3. Perform Exploratory Analysis\n",
    "\n",
    "Interpret visualizations related to the price range, average rating, and number of reviews for all query results.\n",
    "\n",
    "#### 4. Create a Folium Map\n",
    "\n",
    "Using latitude and longitude data, plot the query results on an interactive map."
   ]
  },
  {
   "cell_type": "markdown",
   "metadata": {},
   "source": [
    "## 1. Make the Initial Request\n",
    "\n",
    "### Querying\n",
    "\n",
    "Start by making an initial request to the Yelp API. Your search must include at least 2 parameters: **term** and **location**. For example, you might search for pizza restaurants in NYC. The term and location is up to you but make the request below.\n",
    "\n",
    "Use the `requests` library ([documentation here](https://requests.readthedocs.io/en/master/user/quickstart/#make-a-request)).\n",
    "\n",
    "You'll also need an API key from Yelp. If you haven't done this already, go to the Yelp [Manage App page](https://www.yelp.com/developers/v3/manage_app) and create a new app (after making an account if you haven't already)."
   ]
  },
  {
   "cell_type": "code",
   "execution_count": 5,
   "metadata": {},
   "outputs": [
    {
     "data": {
      "text/plain": [
       "<Response [200]>"
      ]
     },
     "execution_count": 5,
     "metadata": {},
     "output_type": "execute_result"
    }
   ],
   "source": [
    "# Replace None with appropriate code\n",
    "\n",
    "# Import the requests library\n",
    "import requests\n",
    "\n",
    "# Get this from the \"Manage App\" page. Make sure you set them\n",
    "# back to None before pushing this to GitHub, since otherwise\n",
    "# your credentials will be compromised\n",
    "api_key = 'r7cFpnm21eGhGDfOzsFs62piATvqjzNzay7U7aUVzws692i1XzS0o3-dGpLZ5KdQWSkQhzYpwWRdx0o44dZtzVzI_6pxu4ZAAylDbirvciMvylRbiPTDf4VAArSSYXYx'\n",
    "\n",
    "# These can be whatever you want! But the solution uses \"pizza\"\n",
    "# and \"New York NY\" if you want to compare your work directly\n",
    "term = 'New Mexican'\n",
    "location = 'Santa Fe'\n",
    "\n",
    "# Set up params for request\n",
    "url = \"https://api.yelp.com/v3/businesses/search\"\n",
    "headers = {\n",
    "    \"Authorization\": \"Bearer {}\".format(api_key)\n",
    "}\n",
    "url_params = {\n",
    "    \"term\": term.replace(\" \", \"+\"),\n",
    "    \"location\": location.replace(\" \", \"+\")\n",
    "}\n",
    "\n",
    "# Make the request using requests.get, passing in\n",
    "# url, headers=headers, and params=url_params\n",
    "response = requests.get(url, headers=headers, params=url_params)\n",
    "\n",
    "# Confirm we got a 200 response\n",
    "response"
   ]
  },
  {
   "cell_type": "code",
   "execution_count": 6,
   "metadata": {},
   "outputs": [
    {
     "data": {
      "text/plain": [
       "dict_keys(['businesses', 'total', 'region'])"
      ]
     },
     "execution_count": 6,
     "metadata": {},
     "output_type": "execute_result"
    }
   ],
   "source": [
    "# Run this cell without changes\n",
    "\n",
    "# Get the response body in JSON format\n",
    "response_json = response.json()\n",
    "# View the keys\n",
    "response_json.keys()"
   ]
  },
  {
   "cell_type": "markdown",
   "metadata": {},
   "source": [
    "### Extracting Data\n",
    "\n",
    "Now, retrieve the value associated with the `'businesses'` key, and inspect its contents."
   ]
  },
  {
   "cell_type": "code",
   "execution_count": 16,
   "metadata": {},
   "outputs": [
    {
     "data": {
      "text/plain": [
       "[{'id': '0rhsnirsotShh-Uwkighzg',\n",
       "  'alias': 'pantry-restaurant-santa-fe-2',\n",
       "  'name': 'Pantry Restaurant',\n",
       "  'image_url': 'https://s3-media3.fl.yelpcdn.com/bphoto/MgBDHEOFApWKd-OgDvo4tw/o.jpg',\n",
       "  'is_closed': False,\n",
       "  'url': 'https://www.yelp.com/biz/pantry-restaurant-santa-fe-2?adjust_creative=H1eoo-ciNH1FNAbpYMqzcw&utm_campaign=yelp_api_v3&utm_medium=api_v3_business_search&utm_source=H1eoo-ciNH1FNAbpYMqzcw',\n",
       "  'review_count': 1963,\n",
       "  'categories': [{'alias': 'breakfast_brunch', 'title': 'Breakfast & Brunch'},\n",
       "   {'alias': 'diners', 'title': 'Diners'},\n",
       "   {'alias': 'newmexican', 'title': 'New Mexican Cuisine'}],\n",
       "  'rating': 4.5,\n",
       "  'coordinates': {'latitude': 35.66489, 'longitude': -105.97242},\n",
       "  'transactions': ['pickup', 'delivery'],\n",
       "  'price': '$$',\n",
       "  'location': {'address1': '1820 Cerrillos Rd',\n",
       "   'address2': '',\n",
       "   'address3': '',\n",
       "   'city': 'Santa Fe',\n",
       "   'zip_code': '87505',\n",
       "   'country': 'US',\n",
       "   'state': 'NM',\n",
       "   'display_address': ['1820 Cerrillos Rd', 'Santa Fe, NM 87505']},\n",
       "  'phone': '+15059860022',\n",
       "  'display_phone': '(505) 986-0022',\n",
       "  'distance': 1087.2388845904907},\n",
       " {'id': 'JTWByBqrumLgyMXF9xfwyQ',\n",
       "  'alias': 'tomasitas-santa-fe',\n",
       "  'name': \"Tomasita's\",\n",
       "  'image_url': 'https://s3-media3.fl.yelpcdn.com/bphoto/hj3YjCNNPfqrpb3pY1wIew/o.jpg',\n",
       "  'is_closed': False,\n",
       "  'url': 'https://www.yelp.com/biz/tomasitas-santa-fe?adjust_creative=H1eoo-ciNH1FNAbpYMqzcw&utm_campaign=yelp_api_v3&utm_medium=api_v3_business_search&utm_source=H1eoo-ciNH1FNAbpYMqzcw',\n",
       "  'review_count': 1097,\n",
       "  'categories': [{'alias': 'newmexican', 'title': 'New Mexican Cuisine'}],\n",
       "  'rating': 4.0,\n",
       "  'coordinates': {'latitude': 35.68371, 'longitude': -105.94658},\n",
       "  'transactions': ['pickup', 'delivery'],\n",
       "  'price': '$$',\n",
       "  'location': {'address1': '500 S Guadalupe St',\n",
       "   'address2': '',\n",
       "   'address3': '',\n",
       "   'city': 'Santa Fe',\n",
       "   'zip_code': '87501',\n",
       "   'country': 'US',\n",
       "   'state': 'NM',\n",
       "   'display_address': ['500 S Guadalupe St', 'Santa Fe, NM 87501']},\n",
       "  'phone': '+15059835721',\n",
       "  'display_phone': '(505) 983-5721',\n",
       "  'distance': 2439.7532520966656}]"
      ]
     },
     "execution_count": 16,
     "metadata": {},
     "output_type": "execute_result"
    }
   ],
   "source": [
    "# Replace None with appropriate code\n",
    "\n",
    "# Retrieve the value from response_json\n",
    "businesses = response_json['businesses']\n",
    "\n",
    "# View the first 2 records\n",
    "businesses[:2]"
   ]
  },
  {
   "cell_type": "markdown",
   "metadata": {},
   "source": [
    "### Preparing Data\n",
    "\n",
    "Write a function `prepare_data` that takes in a list of dictionaries like `businesses` and returns a copy that has been prepared for analysis:\n",
    "\n",
    "1. The `coordinates` key-value pair has been converted into two separate key-value pairs, `latitude` and `longitude`\n",
    "2. All other key-value pairs except for `name`, `review_count`, `rating`, and `price` have been dropped\n",
    "3. All dictionaries missing one of the relevant keys or containing null values have been dropped\n",
    "\n",
    "In other words, the final keys for each dictionary should be `name`, `review_count`, `rating`, `price`, `latitude`, and `longitude`.\n",
    "\n",
    "Complete the function in the cell below:"
   ]
  },
  {
   "cell_type": "code",
   "execution_count": 18,
   "metadata": {},
   "outputs": [
    {
     "data": {
      "text/plain": [
       "[]"
      ]
     },
     "execution_count": 18,
     "metadata": {},
     "output_type": "execute_result"
    }
   ],
   "source": [
    "# Replace None with appropriate code\n",
    "\n",
    "def prepare_data(data_list):\n",
    "    \"\"\"\n",
    "    This function takes in a list of dictionaries and prepares it\n",
    "    for analysis\n",
    "    \"\"\"\n",
    "    \n",
    "    # Make a new list to hold results\n",
    "    results = []\n",
    "    \n",
    "    for business_data in data_list:\n",
    "    \n",
    "        # Make a new dictionary to hold prepared data for this business\n",
    "        prepared_data = {}\n",
    "        \n",
    "        # Extract name, review_count, rating, and price key-value pairs\n",
    "        # from business_data and add to prepared_data\n",
    "        # If a key is not present in business_data, add it to prepared_data\n",
    "        # with an associated value of None\n",
    "        for key in (\"name\", \"review count\", \"rating\", \"price\"):\n",
    "            prepared_data[key] = business_data.get(key, None)\n",
    "    \n",
    "        # Parse and add latitude and longitude columns\n",
    "        coordinates = business_data[\"coordinates\"]\n",
    "        prepared_data[\"latitude\"] = coordinates[\"latitude\"]\n",
    "        prepared_data[\"longitude\"] = coordinates[\"longitude\"]\n",
    "        \n",
    "        # Add to list if all values are present\n",
    "        if all(prepared_data.values()):\n",
    "            results.append(prepared_data)\n",
    "    \n",
    "    return results\n",
    "    \n",
    "# Test out function\n",
    "prepared_businesses = prepare_data(businesses)\n",
    "prepared_businesses[:2]"
   ]
  },
  {
   "cell_type": "code",
   "execution_count": 19,
   "metadata": {},
   "outputs": [
    {
     "data": {
      "text/plain": [
       "[{'name': 'Pantry Restaurant',\n",
       "  'review_count': 1963,\n",
       "  'rating': 4.5,\n",
       "  'price': '$$',\n",
       "  'latitude': 35.66489,\n",
       "  'longitude': -105.97242},\n",
       " {'name': \"Tomasita's\",\n",
       "  'review_count': 1097,\n",
       "  'rating': 4.0,\n",
       "  'price': '$$',\n",
       "  'latitude': 35.68371,\n",
       "  'longitude': -105.94658},\n",
       " {'name': 'La Choza Restaurant',\n",
       "  'review_count': 774,\n",
       "  'rating': 4.0,\n",
       "  'price': '$$',\n",
       "  'latitude': 35.67913,\n",
       "  'longitude': -105.95278},\n",
       " {'name': 'The Shed',\n",
       "  'review_count': 1963,\n",
       "  'rating': 4.0,\n",
       "  'price': '$$',\n",
       "  'latitude': 35.68751,\n",
       "  'longitude': -105.93706},\n",
       " {'name': 'Tune-Up Cafe',\n",
       "  'review_count': 1177,\n",
       "  'rating': 4.5,\n",
       "  'price': '$$',\n",
       "  'latitude': 35.6813,\n",
       "  'longitude': -105.95872}]"
      ]
     },
     "execution_count": 19,
     "metadata": {},
     "output_type": "execute_result"
    }
   ],
   "source": [
    "#solution code - I can't figure out why my copy of solution code doesn't work\n",
    "def prepare_data(data_list):\n",
    "    \"\"\"\n",
    "    This function takes in a list of dictionaries and prepares it\n",
    "    for analysis\n",
    "    \"\"\"\n",
    "    \n",
    "    # Make a new list to hold results\n",
    "    results = []\n",
    "    \n",
    "    for business_data in data_list:\n",
    "    \n",
    "        # Make a new dictionary to hold prepared data for this business\n",
    "        prepared_data = {}\n",
    "        \n",
    "        # Extract name, review_count, rating, and price key-value pairs\n",
    "        # from business_data and add to prepared_data\n",
    "        # If a key is not present in business_data, add it to prepared_data\n",
    "        # with an associated value of None\n",
    "        for key in (\"name\", \"review_count\", \"rating\", \"price\"):\n",
    "            prepared_data[key] = business_data.get(key, None)\n",
    "    \n",
    "        # Parse and add latitude and longitude columns\n",
    "        coordinates = business_data[\"coordinates\"]\n",
    "        prepared_data[\"latitude\"] = coordinates[\"latitude\"]\n",
    "        prepared_data[\"longitude\"] = coordinates[\"longitude\"]\n",
    "        \n",
    "        # Add to list if all values are present\n",
    "        if all(prepared_data.values()):\n",
    "            results.append(prepared_data)\n",
    "    \n",
    "    return results\n",
    "    \n",
    "# Test out function\n",
    "prepared_businesses = prepare_data(businesses)\n",
    "prepared_businesses[:5]"
   ]
  },
  {
   "cell_type": "markdown",
   "metadata": {},
   "source": [
    "Check that your function created the correct keys:"
   ]
  },
  {
   "cell_type": "code",
   "execution_count": 20,
   "metadata": {},
   "outputs": [],
   "source": [
    "# Run this cell without changes\n",
    "\n",
    "assert sorted(list(prepared_businesses[0].keys())) == ['latitude', 'longitude', 'name', 'price', 'rating', 'review_count']"
   ]
  },
  {
   "cell_type": "markdown",
   "metadata": {},
   "source": [
    "The following code will differ depending on your query, but we expect there to be 20 businesses in the original list, and potentially fewer in the prepared list (if any of them were missing data):"
   ]
  },
  {
   "cell_type": "code",
   "execution_count": 21,
   "metadata": {},
   "outputs": [
    {
     "name": "stdout",
     "output_type": "stream",
     "text": [
      "Original: 20\n",
      "Prepared: 19\n"
     ]
    }
   ],
   "source": [
    "# Run this cell without changes\n",
    "print(\"Original:\", len(businesses))\n",
    "print(\"Prepared:\", len(prepared_businesses))"
   ]
  },
  {
   "cell_type": "markdown",
   "metadata": {},
   "source": [
    "Great! We will reuse this function once we have retrieved the full dataset."
   ]
  },
  {
   "cell_type": "markdown",
   "metadata": {},
   "source": [
    "## 2. Add Pagination\n",
    "\n",
    "Now that you are able to extract information from one page of the response, let's figure out how to request as many pages as possible.\n",
    "\n",
    "### Determining the Total\n",
    "\n",
    "Depending on the number of total results for your query, you will either retrieve all of the results, or just the first 1000 (if there are more than 1000 total).\n",
    "\n",
    "We can find the total number of results using the `\"total\"` key:"
   ]
  },
  {
   "cell_type": "code",
   "execution_count": 22,
   "metadata": {},
   "outputs": [
    {
     "data": {
      "text/plain": [
       "114"
      ]
     },
     "execution_count": 22,
     "metadata": {},
     "output_type": "execute_result"
    }
   ],
   "source": [
    "# Run this cell without changes\n",
    "response_json[\"total\"]"
   ]
  },
  {
   "cell_type": "markdown",
   "metadata": {},
   "source": [
    "(This is specific to the implementation of the Yelp API. Some APIs will just tell you that there are more pages, or will tell you the number of pages total, rather than the total number of results. If you're not sure, always check the documentation.)\n",
    "\n",
    "In the cell below, assign the variable `total` to either the value shown above (if it is less than 1000), or 1000."
   ]
  },
  {
   "cell_type": "code",
   "execution_count": 29,
   "metadata": {},
   "outputs": [],
   "source": [
    "# Replace None with appropriate code\n",
    "total = 114"
   ]
  },
  {
   "cell_type": "markdown",
   "metadata": {},
   "source": [
    "### Calculating the Offsets\n",
    "\n",
    "The documentation states in the parameters section:\n",
    "\n",
    "> **Name**: `limit`, **Type:** int, **Description:** Optional. Number of business results to return. By default, it will return 20. Maximum is 50.\n",
    "\n",
    "> **Name**: `offset`, **Type:** int, **Description:** Optional. Offset the list of returned business results by this amount.\n",
    "\n",
    "So, to get the most results with the fewest API calls we want to set a limit of 50 every time. If, say, we wanted to get 210 total results, that would mean:\n",
    "\n",
    "1. Offset of `0` (first 50 records)\n",
    "2. Offset of `50` (second 50 records)\n",
    "3. Offset of `100` (third 50 records)\n",
    "4. Offset of `150` (fourth 50 records)\n",
    "5. Offset of `200` (final 10 records)\n",
    "\n",
    "In the cell below, create a function `get_offsets` that takes in a total and returns a list of offsets for that total. You can assume that there is a limit of 50 every time.\n",
    "\n",
    "*Hint: you can use `range` ([documentation here](https://docs.python.org/3.3/library/stdtypes.html?highlight=range#range)) to do this in one line of code. Just make the returned result is a list.*"
   ]
  },
  {
   "cell_type": "code",
   "execution_count": 23,
   "metadata": {},
   "outputs": [],
   "source": [
    "# Replace None with appropriate code\n",
    "def get_offsets(total):\n",
    "    \"\"\"\n",
    "    Get a list of offsets needed to get all pages\n",
    "    of data up until the total\n",
    "    \"\"\"\n",
    "    return list(range(0, total, 50))"
   ]
  },
  {
   "cell_type": "markdown",
   "metadata": {},
   "source": [
    "Check that your function works below:"
   ]
  },
  {
   "cell_type": "code",
   "execution_count": 24,
   "metadata": {},
   "outputs": [],
   "source": [
    "# Run this cell without changes\n",
    "\n",
    "assert get_offsets(200) == [0, 50, 100, 150]\n",
    "assert get_offsets(210) == [0, 50, 100, 150, 200]"
   ]
  },
  {
   "cell_type": "markdown",
   "metadata": {},
   "source": [
    "### Putting It All Together\n",
    "\n",
    "Recall that the following variable has already been declared for you:"
   ]
  },
  {
   "cell_type": "code",
   "execution_count": 25,
   "metadata": {},
   "outputs": [
    {
     "data": {
      "text/plain": [
       "{'term': 'New+Mexican', 'location': 'Santa+Fe'}"
      ]
     },
     "execution_count": 25,
     "metadata": {},
     "output_type": "execute_result"
    }
   ],
   "source": [
    "# Run this cell without changes\n",
    "url_params"
   ]
  },
  {
   "cell_type": "markdown",
   "metadata": {},
   "source": [
    "We'll go ahead and also specify that the limit should be 50 every time:"
   ]
  },
  {
   "cell_type": "code",
   "execution_count": 26,
   "metadata": {},
   "outputs": [],
   "source": [
    "# Run this cell without changes\n",
    "url_params[\"limit\"] = 50"
   ]
  },
  {
   "cell_type": "markdown",
   "metadata": {},
   "source": [
    "In order to modify the offset, you'll need to add it to `url_params` with the key `\"offset\"` and whatever value is needed.\n",
    "\n",
    "In the cell below, write code that:\n",
    "\n",
    "* Creates an empty list for the full prepared dataset\n",
    "* Loops over all of the offsets from `get_offsets` and makes an API call each time with the specified offset\n",
    "* Calls `prepare_data` to get a cleaned version of the result of each API call\n",
    "* Extends the full prepared dataset list with each query's prepared dataset"
   ]
  },
  {
   "cell_type": "code",
   "execution_count": 30,
   "metadata": {},
   "outputs": [
    {
     "data": {
      "text/plain": [
       "88"
      ]
     },
     "execution_count": 30,
     "metadata": {},
     "output_type": "execute_result"
    }
   ],
   "source": [
    "# Replace None with appropriate code\n",
    "\n",
    "# Create an empty list for the full prepared dataset\n",
    "full_dataset = []\n",
    "\n",
    "for offset in get_offsets(total):\n",
    "    # Add or update the \"offset\" key-value pair in url_params\n",
    "    url_params[\"offset\"] = offset\n",
    "    \n",
    "    # Make the query and get the response\n",
    "    response = requests.get(url, headers=headers, params=url_params)\n",
    "    \n",
    "    # Get the response body in JSON format\n",
    "    response_json = response.json()\n",
    "    \n",
    "    # Get the list of businesses from the response_json\n",
    "    businesses = response_json['businesses']\n",
    "    \n",
    "    # Call the prepare_data function to get a list of processed data\n",
    "    prepared_businesses = prepare_data(businesses)\n",
    "    \n",
    "    # Extend full_dataset with this list (don't append, or you'll get\n",
    "    # a list of lists instead of a flat list)\n",
    "    full_dataset.extend(prepared_businesses)\n",
    "\n",
    "# Check the length of the full dataset. It will be up to `total`,\n",
    "# potentially less if there were missing values\n",
    "len(full_dataset)"
   ]
  },
  {
   "cell_type": "markdown",
   "metadata": {},
   "source": [
    "This code may take up to a few minutes to run.\n",
    "\n",
    "If you get an error trying to get the response body in JSON format, try adding `time.sleep(1)` right after the `requests.get` line, so your code will sleep for 1 second between each API call."
   ]
  },
  {
   "cell_type": "markdown",
   "metadata": {},
   "source": [
    "## 3. Perform Exploratory Analysis\n",
    "\n",
    "Take the businesses from the previous question and do an initial exploratory analysis. We have provided some plots for you to interpret:"
   ]
  },
  {
   "cell_type": "code",
   "execution_count": 31,
   "metadata": {},
   "outputs": [
    {
     "data": {
      "image/png": "[encoded data removed]",
      "text/plain": [
       "<Figure size 1152x360 with 3 Axes>"
      ]
     },
     "metadata": {
      "needs_background": "light"
     },
     "output_type": "display_data"
    }
   ],
   "source": [
    "# Run this cell without changes\n",
    "from collections import Counter\n",
    "import matplotlib.pyplot as plt\n",
    "%matplotlib inline\n",
    "\n",
    "fig, (ax1, ax2, ax3) = plt.subplots(ncols=3, figsize=(16, 5))\n",
    "\n",
    "# Plot distribution of number of reviews\n",
    "all_review_counts = [x[\"review_count\"] for x in full_dataset]\n",
    "ax1.hist(all_review_counts)\n",
    "ax1.set_title(\"Review Count Distribution\")\n",
    "ax1.set_xlabel(\"Number of Reviews\")\n",
    "ax1.set_ylabel(\"Number of Businesses\")\n",
    "\n",
    "# Plot rating distribution\n",
    "all_ratings = [x[\"rating\"] for x in full_dataset]\n",
    "rating_counter = Counter(all_ratings)\n",
    "rating_keys = sorted(rating_counter.keys())\n",
    "ax2.bar(rating_keys, [rating_counter[key] for key in rating_keys])\n",
    "ax2.set_title(\"Rating Distribution\")\n",
    "ax2.set_xlabel(\"Rating\")\n",
    "ax2.set_ylabel(\"Number of Businesses\")\n",
    "\n",
    "# Plot price distribution\n",
    "all_prices = [x[\"price\"].replace(\"$\", r\"\\$\") for x in full_dataset]\n",
    "price_counter = Counter(all_prices)\n",
    "price_keys = sorted(price_counter.keys())\n",
    "ax3.bar(price_keys, [price_counter[key] for key in price_keys])\n",
    "ax3.set_title(\"Price Distribution\")\n",
    "ax3.set_xlabel(\"Price Category\")\n",
    "ax3.set_ylabel(\"Number of Businesses\");"
   ]
  },
  {
   "cell_type": "markdown",
   "metadata": {},
   "source": [
    "Describe the distributions displayed above and interpret them in the context of your query. (Your answer may differ from the solution branch depending on your query.)"
   ]
  },
  {
   "cell_type": "code",
   "execution_count": null,
   "metadata": {},
   "outputs": [],
   "source": [
    "# Replace None with appropriate text\n",
    "\"\"\"\n",
    "A lot of restaraunts have few reviews, restaraunts have an average review ~4 stars, and most of the restaraunts are priced in the $$ category.\n",
    "\"\"\""
   ]
  },
  {
   "cell_type": "markdown",
   "metadata": {},
   "source": [
    "In the cell below, we also plot the rating distributions by price. In this setup, a price of one dollar sign is \"lower price\" and everything else is \"higher price\"."
   ]
  },
  {
   "cell_type": "code",
   "execution_count": 32,
   "metadata": {},
   "outputs": [
    {
     "data": {
      "image/png": "[encoded data removed]",
      "text/plain": [
       "<Figure size 432x288 with 1 Axes>"
      ]
     },
     "metadata": {
      "needs_background": "light"
     },
     "output_type": "display_data"
    }
   ],
   "source": [
    "# Run this cell without changes\n",
    "\n",
    "higher_price = []\n",
    "lower_price = []\n",
    "for row in full_dataset:\n",
    "    if row[\"price\"] == \"$\":\n",
    "        lower_price.append(row[\"rating\"])\n",
    "    else:\n",
    "        higher_price.append(row[\"rating\"])\n",
    "        \n",
    "fig, ax = plt.subplots()\n",
    "\n",
    "ax.hist([higher_price, lower_price], label=[\"higher price\", \"lower price\"], density=True)\n",
    "\n",
    "ax.legend();"
   ]
  },
  {
   "cell_type": "markdown",
   "metadata": {},
   "source": [
    "Is a higher price associated with a higher rating? (No need for any additional math/statistics, just interpret what you see in the plot.)"
   ]
  },
  {
   "cell_type": "code",
   "execution_count": null,
   "metadata": {},
   "outputs": [],
   "source": [
    "# Replace None with appropriate text\n",
    "\"\"\"\n",
    "Yes, a higher price is associated with a higher rating, but a lower price is also closely associated with a higher rating\n",
    "\"\"\""
   ]
  },
  {
   "cell_type": "markdown",
   "metadata": {},
   "source": [
    "Finally, let's look at ratings vs. review counts:"
   ]
  },
  {
   "cell_type": "code",
   "execution_count": 33,
   "metadata": {},
   "outputs": [
    {
     "data": {
      "image/png": "[encoded data removed]",
      "text/plain": [
       "<Figure size 1152x360 with 1 Axes>"
      ]
     },
     "metadata": {
      "needs_background": "light"
     },
     "output_type": "display_data"
    }
   ],
   "source": [
    "# Run this cell without changes\n",
    "fig, ax = plt.subplots(figsize=(16,5))\n",
    "\n",
    "ax.scatter(all_review_counts, all_ratings, alpha=0.2)\n",
    "ax.set_xlabel(\"Number of Reviews\")\n",
    "ax.set_ylabel(\"Rating\")\n",
    "# \"zoom in\" to a subset of review counts\n",
    "ax.set_xlim(left=0, right=1000);"
   ]
  },
  {
   "cell_type": "markdown",
   "metadata": {},
   "source": [
    "Is a higher number of reviews associated with a higher rating?"
   ]
  },
  {
   "cell_type": "code",
   "execution_count": null,
   "metadata": {},
   "outputs": [],
   "source": [
    "# Replace None with appropriate text\n",
    "\"\"\"\n",
    "Yes, a higher number of reviews is associated with a higher rating, but the opposite trend is observed between a rating of 4-5 stars.\n",
    "\"\"\""
   ]
  },
  {
   "cell_type": "markdown",
   "metadata": {},
   "source": [
    "## 4. Create a Folium Map\n",
    "\n",
    "Make a map using Folium of the businesses you retrieved. Be sure to also add popups to the markers giving some basic information such as name, rating and price.\n",
    "\n",
    "You can center the map around the latitude and longitude of the first item in `full_dataset`."
   ]
  },
  {
   "cell_type": "code",
   "execution_count": 35,
   "metadata": {},
   "outputs": [
    {
     "data": {
      "text/html": [
       "<div style=\"width:100%;\"><div style=\"position:relative;width:100%;height:0;padding-bottom:60%;\"><span style=\"color:#565656\">Make this Notebook Trusted to load map: File -> Trust Notebook</span><iframe src=\"about:blank\" style=\"position:absolute;width:100%;height:100%;left:0;top:0;border:none !important;\" data-html=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 onload=\"this.contentDocument.open();this.contentDocument.write(atob(this.getAttribute('data-html')));this.contentDocument.close();\" allowfullscreen webkitallowfullscreen mozallowfullscreen></iframe></div></div>"
      ],
      "text/plain": [
       "<folium.folium.Map at 0x1187d9e80>"
      ]
     },
     "execution_count": 35,
     "metadata": {},
     "output_type": "execute_result"
    }
   ],
   "source": [
    "# Replace None with appropriate code\n",
    "\n",
    "# Import the library\n",
    "import folium\n",
    "\n",
    "# Set up center latitude and longitude\n",
    "center_lat = 35.6870\n",
    "center_long = -105.9378\n",
    "\n",
    "# Initialize map with center lat and long\n",
    "yelp_map = folium.Map([center_lat, center_long], zoom_start=12)\n",
    "\n",
    "# Adjust this limit to see more or fewer businesses\n",
    "limit=100\n",
    "\n",
    "for business in full_dataset[:limit]:\n",
    "    # Extract information about business\n",
    "    lat = business['latitude']\n",
    "    long = business['longitude']\n",
    "    name = business['name']\n",
    "    rating = business['rating']\n",
    "    price = business['price']\n",
    "    details = \"{}\\nPrice: {} Rating:{}\".format(name,price,rating)\n",
    "    \n",
    "    # Create popup with relevant details\n",
    "    popup = folium.Popup(details)\n",
    "    \n",
    "    # Create marker with relevant lat/long and popup\n",
    "    marker = folium.Marker([lat, long], popup=popup)\n",
    "    \n",
    "    marker.add_to(yelp_map)\n",
    "    \n",
    "yelp_map"
   ]
  },
  {
   "cell_type": "markdown",
   "metadata": {},
   "source": [
    "## Summary\n",
    "\n",
    "Nice work! In this lab, you've made multiple API calls to Yelp in order to paginate through a results set, performing some basic exploratory analysis and then creating a nice interactive map to display the results using Folium! Well done!"
   ]
  }
 ],
 "metadata": {
  "kernelspec": {
   "display_name": "Python 3",
   "language": "python",
   "name": "python3"
  },
  "language_info": {
   "codemirror_mode": {
    "name": "ipython",
    "version": 3
   },
   "file_extension": ".py",
   "mimetype": "text/x-python",
   "name": "python",
   "nbconvert_exporter": "python",
   "pygments_lexer": "ipython3",
   "version": "3.8.5"
  },
  "toc": {
   "base_numbering": 1,
   "nav_menu": {},
   "number_sections": true,
   "sideBar": true,
   "skip_h1_title": false,
   "title_cell": "Table of Contents",
   "title_sidebar": "Contents",
   "toc_cell": false,
   "toc_position": {},
   "toc_section_display": true,
   "toc_window_display": false
  }
 },
 "nbformat": 4,
 "nbformat_minor": 2
}
